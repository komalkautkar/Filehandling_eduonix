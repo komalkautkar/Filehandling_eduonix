{
 "cells": [
  {
   "cell_type": "code",
   "execution_count": 1,
   "id": "4a5fa14d",
   "metadata": {},
   "outputs": [
    {
     "name": "stdout",
     "output_type": "stream",
     "text": [
      "Think BigFail Fastkomalkautkarkomalkautkar\n"
     ]
    }
   ],
   "source": [
    "file=open('sample1.txt')\n",
    "for each in file:\n",
    "    print(each)\n"
   ]
  },
  {
   "cell_type": "code",
   "execution_count": 2,
   "id": "c1d15aac",
   "metadata": {},
   "outputs": [
    {
     "name": "stdout",
     "output_type": "stream",
     "text": [
      "Thi\n"
     ]
    }
   ],
   "source": [
    "file=open('sample1.txt',\"r\")\n",
    "print(file.read(3))\n"
   ]
  },
  {
   "cell_type": "code",
   "execution_count": 3,
   "id": "fbb56394",
   "metadata": {},
   "outputs": [
    {
     "name": "stdout",
     "output_type": "stream",
     "text": [
      "['Think', 'BigFail', 'Fastkomalkautkarkomalkautkar']\n"
     ]
    }
   ],
   "source": [
    "with open('sample1.txt','r')as file:\n",
    "    data=file.readlines()\n",
    "    for line in data:\n",
    "        word=line.split()\n",
    "        print(word)"
   ]
  },
  {
   "cell_type": "code",
   "execution_count": 4,
   "id": "f6623db4",
   "metadata": {},
   "outputs": [],
   "source": [
    "file=open('sample1.txt','w')\n",
    "file.write(\"Think Big\")\n",
    "file.write(\"Fail Fast\")\n",
    "file.close()"
   ]
  },
  {
   "cell_type": "code",
   "execution_count": 5,
   "id": "513cfbf3",
   "metadata": {},
   "outputs": [
    {
     "name": "stdout",
     "output_type": "stream",
     "text": [
      "Think BigFail Fast\n"
     ]
    }
   ],
   "source": [
    "file=open('sample1.txt')\n",
    "for each in file:\n",
    "    print(each)"
   ]
  },
  {
   "cell_type": "code",
   "execution_count": 6,
   "id": "83671212",
   "metadata": {},
   "outputs": [
    {
     "name": "stdout",
     "output_type": "stream",
     "text": [
      "Think BigFail Fastkomalkautkar\n"
     ]
    }
   ],
   "source": [
    "file=open('sample1.txt','a')\n",
    "file.write(\"komal\")\n",
    "file.write(\"kautkar\")\n",
    "file.close()\n",
    "file=open('sample1.txt')\n",
    "for each in file:\n",
    "    print(each)"
   ]
  },
  {
   "cell_type": "code",
   "execution_count": 10,
   "id": "4ce68913",
   "metadata": {},
   "outputs": [
    {
     "name": "stdout",
     "output_type": "stream",
     "text": [
      "enter first no:1\n",
      "enter second no:2\n",
      "enter third no:3\n",
      "the maximum number is: 3\n"
     ]
    }
   ],
   "source": [
    "### write a python program to print even numbers from 1 to 50\n",
    "\n",
    "num1=int(input(\"enter first no:\"))\n",
    "num2=int(input(\"enter second no:\"))\n",
    "num3=int(input(\"enter third no:\"))\n",
    "if num1>=num2 and num1>=num3:\n",
    "    print(\"the maximum number is:\",num1)\n",
    "elif num2>=num1 and num2>=num3:\n",
    "    print(\"the maximum number is:\",num2)\n",
    "else:\n",
    "    print(\"the maximum number is:\",num3)\n",
    "    "
   ]
  },
  {
   "cell_type": "code",
   "execution_count": 15,
   "id": "929d85c3",
   "metadata": {},
   "outputs": [
    {
     "name": "stdout",
     "output_type": "stream",
     "text": [
      "2\n",
      "4\n",
      "6\n",
      "8\n",
      "10\n",
      "12\n",
      "14\n",
      "16\n",
      "18\n",
      "20\n",
      "22\n",
      "24\n",
      "26\n",
      "28\n",
      "30\n",
      "32\n",
      "34\n",
      "36\n",
      "38\n",
      "40\n",
      "42\n",
      "44\n",
      "46\n",
      "48\n",
      "50\n"
     ]
    }
   ],
   "source": [
    "for i in range(1,51):\n",
    "       if i%2==0:\n",
    "        print(i)\n",
    "        "
   ]
  },
  {
   "cell_type": "code",
   "execution_count": 16,
   "id": "0452e2cc",
   "metadata": {},
   "outputs": [
    {
     "data": {
      "text/plain": [
       "120"
      ]
     },
     "execution_count": 16,
     "metadata": {},
     "output_type": "execute_result"
    }
   ],
   "source": [
    "### write a python program to find factorial using whil loop\n",
    "\n",
    "def factorial(n):\n",
    "    result=1\n",
    "    while n>0:\n",
    "        result*=n\n",
    "        n-=1\n",
    "    return result\n",
    "factorial(5)"
   ]
  },
  {
   "cell_type": "code",
   "execution_count": null,
   "id": "6e5e05d2",
   "metadata": {},
   "outputs": [],
   "source": []
  }
 ],
 "metadata": {
  "kernelspec": {
   "display_name": "Python 3 (ipykernel)",
   "language": "python",
   "name": "python3"
  },
  "language_info": {
   "codemirror_mode": {
    "name": "ipython",
    "version": 3
   },
   "file_extension": ".py",
   "mimetype": "text/x-python",
   "name": "python",
   "nbconvert_exporter": "python",
   "pygments_lexer": "ipython3",
   "version": "3.11.5"
  }
 },
 "nbformat": 4,
 "nbformat_minor": 5
}
